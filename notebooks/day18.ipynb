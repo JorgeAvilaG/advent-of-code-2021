{
 "cells": [
  {
   "cell_type": "code",
   "execution_count": 3,
   "metadata": {},
   "outputs": [
    {
     "data": {
      "text/plain": [
       "['[1,1]', '[2,2]', '[3,3]', '[4,4]']"
      ]
     },
     "execution_count": 3,
     "metadata": {},
     "output_type": "execute_result"
    }
   ],
   "source": [
    "f = open(\"../data/test_day18.txt\", \"r\")\n",
    "data = list(f)\n",
    "data = [line.strip() for line in data]\n",
    "data"
   ]
  },
  {
   "cell_type": "code",
   "execution_count": 35,
   "metadata": {},
   "outputs": [
    {
     "data": {
      "text/plain": [
       "'[[[[1,1],[2,2]],[3,3]],[4,4]]'"
      ]
     },
     "execution_count": 35,
     "metadata": {},
     "output_type": "execute_result"
    }
   ],
   "source": [
    "def add(a,b):\n",
    "    return '['+a+','+b+']'\n",
    "\n",
    "\n",
    "temp = data[0]\n",
    "for i in data[1:]:\n",
    "    temp = add(temp,i)\n",
    "temp"
   ]
  },
  {
   "cell_type": "code",
   "execution_count": 45,
   "metadata": {},
   "outputs": [
    {
     "data": {
      "text/plain": [
       "2"
      ]
     },
     "execution_count": 45,
     "metadata": {},
     "output_type": "execute_result"
    }
   ],
   "source": [
    "class node():\n",
    "    def __init__(self):\n",
    "        self.left = None\n",
    "        self.right = None\n",
    "    def setLeft(self,value):\n",
    "        self.left = value\n",
    "    def setRight(self,value):\n",
    "        self.right = value\n",
    "    def getLeftChild(self):\n",
    "        return self.left\n",
    "    def getRightChild(self):\n",
    "        return self.right   \n",
    "\n",
    "    \n",
    "def create_tree(string,i):\n",
    "    left = True\n",
    "    temp = node()\n",
    "    while i < len(string):\n",
    "        t = string[i]\n",
    "        if t == '[':\n",
    "            x, i = create_tree(string,i+1)\n",
    "            if left:\n",
    "                temp.setLeft(x)\n",
    "            else:\n",
    "                temp.setRight(x)\n",
    "        elif t in '12345678900':\n",
    "            if left:\n",
    "                temp.setLeft(int(t))\n",
    "            else:\n",
    "                temp.setRight(int(t))\n",
    "        elif t == ',':\n",
    "            left = False\n",
    "        elif t == ']':\n",
    "            return temp,i\n",
    "        i+=1\n",
    "    return temp.getLeftChild()\n",
    "            \n",
    "    \n",
    "string = '[3,[2,1]]'\n",
    "tree = create_tree(temp,0)\n",
    "tree.getLeftChild()\n",
    "tree.getLeftChild().getLeftChild().getRightChild().getLeftChild()"
   ]
  },
  {
   "cell_type": "code",
   "execution_count": null,
   "metadata": {},
   "outputs": [],
   "source": []
  }
 ],
 "metadata": {
  "kernelspec": {
   "display_name": "Python 3",
   "language": "python",
   "name": "python3"
  },
  "language_info": {
   "codemirror_mode": {
    "name": "ipython",
    "version": 3
   },
   "file_extension": ".py",
   "mimetype": "text/x-python",
   "name": "python",
   "nbconvert_exporter": "python",
   "pygments_lexer": "ipython3",
   "version": "3.7.9"
  }
 },
 "nbformat": 4,
 "nbformat_minor": 4
}
