{
 "cells": [
  {
   "cell_type": "code",
   "execution_count": 19,
   "metadata": {},
   "outputs": [
    {
     "data": {
      "text/plain": [
       "[['on', [-38, 7], [-5, 47], [-4, 41]],\n",
       " ['on', [-16, 35], [-21, 25], [-48, 5]],\n",
       " ['on', [-43, 4], [-32, 21], [-18, 27]],\n",
       " ['on', [-16, 38], [-37, 9], [-10, 40]],\n",
       " ['on', [-3, 43], [-40, 13], [-48, -4]],\n",
       " ['on', [-6, 43], [-4, 41], [-6, 47]],\n",
       " ['on', [-29, 15], [-9, 43], [-39, 5]],\n",
       " ['on', [-37, 9], [-16, 37], [-1, 45]],\n",
       " ['on', [-28, 21], [-7, 46], [-10, 36]],\n",
       " ['on', [-26, 27], [-6, 40], [-18, 34]]]"
      ]
     },
     "execution_count": 19,
     "metadata": {},
     "output_type": "execute_result"
    }
   ],
   "source": [
    "f = open(\"../data/data_day22.txt\", \"r\")\n",
    "data = list(f)\n",
    "data = [line.strip().split(' ') for line in data]\n",
    "new_data = []\n",
    "for line in data:\n",
    "    x,y,z = line[1].split(',')\n",
    "    x = x[2:].split('..')\n",
    "    y = y[2:].split('..')\n",
    "    z = z[2:].split('..')\n",
    "    x = [int(n) for n in x]\n",
    "    y = [int(n) for n in y]\n",
    "    z = [int(n) for n in z]\n",
    "    new_data.append([line[0],x,y,z])\n",
    "\n",
    "new_data[0:10]\n",
    "    "
   ]
  },
  {
   "cell_type": "code",
   "execution_count": 21,
   "metadata": {},
   "outputs": [
    {
     "name": "stdout",
     "output_type": "stream",
     "text": [
      "601104\n"
     ]
    }
   ],
   "source": [
    "# part 1\n",
    "on = set()\n",
    "for line in new_data:\n",
    "    \n",
    "    if line[1][0] >= 50 or line[1][0] <= -50:\n",
    "        break\n",
    "    \n",
    "    if line[0] == 'on':\n",
    "        to_on = True\n",
    "    else:\n",
    "        to_on = False\n",
    "        \n",
    "    for x in range(line[1][0],line[1][1]+1):\n",
    "        for y in range(line[2][0],line[2][1]+1):\n",
    "            for z in range(line[3][0],line[3][1]+1):\n",
    "                if to_on:\n",
    "                    on.add((x,y,z))\n",
    "                elif (x,y,z) in on:\n",
    "                    on.remove((x,y,z))\n",
    "                \n",
    "        \n",
    "print(len(on))  "
   ]
  },
  {
   "cell_type": "code",
   "execution_count": 22,
   "metadata": {},
   "outputs": [
    {
     "data": {
      "text/plain": [
       "420"
      ]
     },
     "execution_count": 22,
     "metadata": {},
     "output_type": "execute_result"
    }
   ],
   "source": [
    "len(new_data)"
   ]
  },
  {
   "cell_type": "code",
   "execution_count": 25,
   "metadata": {},
   "outputs": [
    {
     "data": {
      "text/plain": [
       "(5, 10, 5, 20)"
      ]
     },
     "execution_count": 25,
     "metadata": {},
     "output_type": "execute_result"
    }
   ],
   "source": [
    "max(5,0),min(10,15),max(0,5),min(20,25)"
   ]
  },
  {
   "cell_type": "code",
   "execution_count": null,
   "metadata": {},
   "outputs": [],
   "source": []
  }
 ],
 "metadata": {
  "kernelspec": {
   "display_name": "Python 3",
   "language": "python",
   "name": "python3"
  },
  "language_info": {
   "codemirror_mode": {
    "name": "ipython",
    "version": 3
   },
   "file_extension": ".py",
   "mimetype": "text/x-python",
   "name": "python",
   "nbconvert_exporter": "python",
   "pygments_lexer": "ipython3",
   "version": "3.7.9"
  }
 },
 "nbformat": 4,
 "nbformat_minor": 5
}
