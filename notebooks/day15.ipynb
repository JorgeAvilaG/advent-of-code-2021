{
 "cells": [
  {
   "cell_type": "code",
   "execution_count": 17,
   "id": "b82e294e-e574-4475-ba4c-1ad0f8a8e682",
   "metadata": {},
   "outputs": [
    {
     "name": "stdout",
     "output_type": "stream",
     "text": [
      "100 100\n"
     ]
    }
   ],
   "source": [
    "f = open(\"../data/data_day15.txt\", \"r\")\n",
    "data = [list(line.strip()) for line in list(f)]\n",
    "data = [[int(x)for x in line] for line in data]\n",
    "print(len(data),len(data[0]))"
   ]
  },
  {
   "cell_type": "code",
   "execution_count": 38,
   "id": "51635798-0249-4266-ac18-5f73a43a1c66",
   "metadata": {
    "tags": []
   },
   "outputs": [
    {
     "name": "stdout",
     "output_type": "stream",
     "text": [
      "462\n",
      "462\n"
     ]
    }
   ],
   "source": [
    "# part 1\n",
    "def new_pos(x,y):\n",
    "    pos = [1,-1]\n",
    "    sol = []\n",
    "    for i in pos:\n",
    "        if x+i >= 0 and x+i < len(data):\n",
    "            sol.append((x+i,y))\n",
    "        if y+i >= 0 and y+i < len(data):\n",
    "            sol.append((x,y+i))\n",
    "    return sol\n",
    "\n",
    "\n",
    "x0, y0 = 0,0\n",
    "xf, yf = 99,99\n",
    "path = set()\n",
    "path.add((0,0))\n",
    "to_check = [(0,x0,y0,path)]\n",
    "visited = {}\n",
    "\n",
    "while to_check:\n",
    "    to_check = sorted(to_check, reverse = True)\n",
    "    punt,x,y,path = to_check.pop()\n",
    "    path = path.copy()\n",
    "\n",
    "    if (x,y) in visited:\n",
    "        if visited[(x,y)] <= punt:\n",
    "            continue\n",
    "        else:\n",
    "            visited[(x,y)] = punt\n",
    "    else:\n",
    "        visited[(x,y)] = punt\n",
    "    \n",
    "    if (x,y) == (xf,yf):\n",
    "        print(punt)\n",
    "        continue\n",
    "        \n",
    "    pos = new_pos(x,y)\n",
    "    for p in pos:\n",
    "        if p in path:\n",
    "            continue\n",
    "        xi,yi = p\n",
    "        new_p = path.copy()\n",
    "        new_p.add((xi,yi))\n",
    "        to_check.append((punt+data[yi][xi],xi,yi,new_p))\n",
    "    \n",
    "print(paths[(99,99)])"
   ]
  },
  {
   "cell_type": "code",
   "execution_count": 34,
   "id": "3f716e00-6a5a-4e61-8ca9-bade67f4e85c",
   "metadata": {},
   "outputs": [
    {
     "data": {
      "text/plain": [
       "462"
      ]
     },
     "execution_count": 34,
     "metadata": {},
     "output_type": "execute_result"
    }
   ],
   "source": [
    "Data = {}\n",
    "for n in range(0,9):\n",
    "    temp = data.copy()\n",
    "    for x in range(len(data):\n",
    "        for y in range(len(data)):\n",
    "            temp[y][x] +=n\n",
    "            if \n",
    "                   \n"
   ]
  },
  {
   "cell_type": "code",
   "execution_count": null,
   "id": "9438c4ed-ddb0-437f-8017-f3e7209b0642",
   "metadata": {},
   "outputs": [],
   "source": []
  },
  {
   "cell_type": "code",
   "execution_count": null,
   "id": "73be3a0a-a81e-4dfb-9bdf-d7f3926b9758",
   "metadata": {},
   "outputs": [],
   "source": []
  }
 ],
 "metadata": {
  "kernelspec": {
   "display_name": "Python 3 (ipykernel)",
   "language": "python",
   "name": "python3"
  },
  "language_info": {
   "codemirror_mode": {
    "name": "ipython",
    "version": 3
   },
   "file_extension": ".py",
   "mimetype": "text/x-python",
   "name": "python",
   "nbconvert_exporter": "python",
   "pygments_lexer": "ipython3",
   "version": "3.9.9"
  }
 },
 "nbformat": 4,
 "nbformat_minor": 5
}
