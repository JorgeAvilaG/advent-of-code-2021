{
 "cells": [
  {
   "cell_type": "code",
   "execution_count": 24,
   "id": "81b6e097-1779-43d2-ac30-499909c90080",
   "metadata": {},
   "outputs": [
    {
     "name": "stdout",
     "output_type": "stream",
     "text": [
      "1000 688 747\n"
     ]
    },
    {
     "data": {
      "text/plain": [
       "513936"
      ]
     },
     "execution_count": 24,
     "metadata": {},
     "output_type": "execute_result"
    }
   ],
   "source": [
    "data = \"\"\"Player 1 starting position: 8\n",
    "        Player 2 starting position: 2\"\"\"\n",
    "p1 = 8-1\n",
    "p2 = 2-1\n",
    "# 10 positions mod 10, 0 to 9\n",
    "\n",
    "dize = 0\n",
    "def roll_dize(dize):\n",
    "    dize += 1\n",
    "    if dize == 101:\n",
    "        dize = 1\n",
    "    return dize\n",
    "\n",
    "score_p1 = 0\n",
    "score_p2 = 0\n",
    "\n",
    "counter = 0\n",
    "while score_p1 < 1000 or score_p2 < 1000:\n",
    "    # p1\n",
    "    total = 0\n",
    "    for _ in range(3):\n",
    "        dize = roll_dize(dize)\n",
    "        total += dize\n",
    "    counter += 3\n",
    "    \n",
    "    p1 = (p1 + total)%10\n",
    "    \n",
    "    score_p1 += p1+1\n",
    "    #print(score_p1)\n",
    "    if score_p1 >= 1000 or score_p2 >= 1000:\n",
    "        break\n",
    "    # p2\n",
    "    total = 0\n",
    "    for _ in range(3):\n",
    "        dize = roll_dize(dize)\n",
    "        total += dize\n",
    "    counter += 3\n",
    "    p2 = (p2 + total)%10\n",
    "    score_p2 += p2+1\n",
    "print(score_p1,score_p2,counter)\n",
    "score_p2*counter"
   ]
  },
  {
   "cell_type": "code",
   "execution_count": 15,
   "id": "bf3bc98d-af70-4364-9664-ace29ae85d3e",
   "metadata": {},
   "outputs": [
    {
     "data": {
      "text/plain": [
       "907224"
      ]
     },
     "execution_count": 15,
     "metadata": {},
     "output_type": "execute_result"
    }
   ],
   "source": [
    "# 907224 too high"
   ]
  },
  {
   "cell_type": "code",
   "execution_count": null,
   "id": "23956182-db7f-4f12-9459-2f973528bd53",
   "metadata": {},
   "outputs": [],
   "source": []
  }
 ],
 "metadata": {
  "kernelspec": {
   "display_name": "Python 3 (ipykernel)",
   "language": "python",
   "name": "python3"
  },
  "language_info": {
   "codemirror_mode": {
    "name": "ipython",
    "version": 3
   },
   "file_extension": ".py",
   "mimetype": "text/x-python",
   "name": "python",
   "nbconvert_exporter": "python",
   "pygments_lexer": "ipython3",
   "version": "3.9.9"
  }
 },
 "nbformat": 4,
 "nbformat_minor": 5
}
