{
 "cells": [
  {
   "cell_type": "code",
   "execution_count": null,
   "id": "81b6e097-1779-43d2-ac30-499909c90080",
   "metadata": {},
   "outputs": [],
   "source": [
    "data = \"\"\"Player 1 starting position: 8\n",
    "        Player 2 starting position: 2\"\"\""
   ]
  }
 ],
 "metadata": {
  "kernelspec": {
   "display_name": "Python 3 (ipykernel)",
   "language": "python",
   "name": "python3"
  },
  "language_info": {
   "codemirror_mode": {
    "name": "ipython",
    "version": 3
   },
   "file_extension": ".py",
   "mimetype": "text/x-python",
   "name": "python",
   "nbconvert_exporter": "python",
   "pygments_lexer": "ipython3",
   "version": "3.9.9"
  }
 },
 "nbformat": 4,
 "nbformat_minor": 5
}
