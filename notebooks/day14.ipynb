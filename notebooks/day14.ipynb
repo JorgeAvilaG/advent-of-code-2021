{
 "cells": [
  {
   "cell_type": "code",
   "execution_count": 55,
   "id": "8b80585f-3c1a-4f74-abb5-9c52a64264e4",
   "metadata": {},
   "outputs": [
    {
     "name": "stdout",
     "output_type": "stream",
     "text": [
      "CFFPOHBCVVNPHCNBKVNV\n"
     ]
    },
    {
     "data": {
      "text/plain": [
       "dict_keys(['KO', 'CV', 'CF', 'FK', 'BN', 'VN', 'BC', 'OP', 'HS', 'HK', 'CC', 'CK', 'OC', 'SN', 'PK', 'BB', 'PO', 'HF', 'BV', 'HP', 'VF', 'BP', 'CH', 'KN', 'NP', 'FS', 'BH', 'VB', 'OS', 'KK', 'SO', 'NB', 'PS', 'KV', 'CS', 'PN', 'HB', 'NF', 'SC', 'NH', 'HV', 'FN', 'KS', 'BO', 'KP', 'OK', 'OV', 'CN', 'SB', 'VP', 'HC', 'FB', 'VS', 'PH', 'VC', 'KH', 'SH', 'BK', 'SP', 'SF', 'OO', 'VH', 'PP', 'FV', 'KC', 'CO', 'NO', 'FO', 'SK', 'ON', 'VO', 'VV', 'CP', 'FC', 'FP', 'FH', 'KF', 'PB', 'NN', 'SS', 'CB', 'HH', 'FF', 'KB', 'HO', 'BF', 'PV', 'OB', 'OH', 'VK', 'NV', 'SV', 'NC', 'OF', 'NS', 'PF', 'HN', 'BS', 'NK', 'PC'])"
      ]
     },
     "execution_count": 55,
     "metadata": {},
     "output_type": "execute_result"
    }
   ],
   "source": [
    "f = open(\"../data/data_day14.txt\", \"r\")\n",
    "data = [line.strip() for line in list(f)]\n",
    "real_template = data.pop(0)\n",
    "print(real_template)\n",
    "data.pop(0)\n",
    "data = [line.split(' -> ')for line in data]\n",
    "D = {}\n",
    "for line in data:\n",
    "    D[line[0]] = line[1]\n",
    "D.keys()"
   ]
  },
  {
   "cell_type": "code",
   "execution_count": 59,
   "id": "f523b846-bf9d-44d2-afb8-456003203274",
   "metadata": {},
   "outputs": [],
   "source": [
    "template = real_template\n",
    "for _ in range(10):\n",
    "    new_t = ''\n",
    "    for l in range(0,len(template)-1):\n",
    "        to_find = template[l:l+2]\n",
    "        new_t += template[l]\n",
    "        if to_find in D:\n",
    "            new_t += D[to_find]\n",
    "    new_t+=template[-1]\n",
    "    template = new_t\n"
   ]
  },
  {
   "cell_type": "code",
   "execution_count": 60,
   "id": "bd673ee7-586e-47a2-8127-d168e9e1f31b",
   "metadata": {},
   "outputs": [
    {
     "name": "stdout",
     "output_type": "stream",
     "text": [
      "2947\n"
     ]
    }
   ],
   "source": [
    "high = 0\n",
    "low = 10000000000\n",
    "for l in set(template):\n",
    "    temp = template.count(l)\n",
    "    if temp > high: high = temp\n",
    "    if temp < low: low = temp\n",
    "print(high-low)"
   ]
  },
  {
   "cell_type": "code",
   "execution_count": 80,
   "id": "3981a1b2-e348-4594-b3bf-1a6cfa341d5c",
   "metadata": {},
   "outputs": [
    {
     "name": "stdout",
     "output_type": "stream",
     "text": [
      "CPFSFNPFONHVBHCHVHVKNFPCHPCCNOBNKOVKNHV\n",
      "CPPNFFSBFVNFPNFKOKNNHKVPBBHPCCHKVKHKVVKONPFNPOCCHFPOCFCCNOOBBPNHKFOPVVKONNHKV\n",
      "CPPCPONPFSFFSHBNFPVKNPFNPONPFBKFOBKONKNNHNKOVCPCBSBBHFPOCFCCHNKOVVKBHNKOVHVVKFOKNFPNFVNFPFOSCFCCHKFNPFOSCPFBCFCCNOOBOBBSBHPONNHNKFFKOSPKVHVVKFOKNKNNHNKOV\n",
      "CPPCPOCPPFOKNFPNFFSBFSFFSBHVBPNPFNPKVVKONFPNFVNFPFOKNFPNFFBNKFFKOBBNKFOKNHKONKNNHKNHKFOPVHCPPOCCBSSHBSBBHKFNPFOSCPFBCFCCHKNHKFOPVHVVKNBBHKNHKFOPVKHKVHVVKFFKOBKONPFNPONPFPVKNPFNPNFKOSSSCPFBCFCCHNKFFVNF\n",
      "CPPCPOCPPFOSCPPCPNFKOBKONPFNPONPFSFFSHBNFFSBFSFFSHBBHKVPBHPONFPNFVNFPHKOVHVVKFOKNPFNPONPFPVKNPFNPNFKOBKONPFNPONPFSFFBPNHKFFSFBKFOBBSBPNHKFFKOBKONNHNKFOKNHKONKNNHNKONNHNKFFKOSPKVKHPCPPCPFOSCFCCBSSOSBHV\n",
      "CPPCPOCPPFOSCPPCPNFKOSSSCPPCPOCPPONPFBKFOBBNKFOKNFPNFVNFPFOKNFPNFFSBFSFFSBHVBPNPFSFFSHBNFFSBFSFFSBHVBSBBHNKOVCPCBBHFPFOKNPFNPONPFPVKNPFNPCHNKFOPVKHKVHVVKFFKOBKONFPNFVNFPFOKNFPNFNPKVVKONFPNFVNFPONPFBKF\n",
      "CPPCPOCPPFOSCPPCPNFKOSSSCPPCPOCPPONPFBKFOSSOSOSSCPPCPOCPPFOSCPPCPFOKNFPNFFBNKFFKOBBSBPNHKFFKOBKONPFNPONPFPVKNPFNPNFKOBKONPFNPONPFSFFSHBNFFSBFSFFSHBBHKVPBHPONFPNFFSBFSFFSBHVBPNPFSFFSHBNFFSBFSFFSHBBHKVP\n",
      "CPPCPOCPPFOSCPPCPNFKOSSSCPPCPOCPPONPFBKFOSSOSOSSCPPCPOCPPFOSCPPCPFOKNFPNFFBNKFFKOSSOSPOSSPOSSOSSCPPCPOCPPFOSCPPCPNFKOSSSCPPCPOCPPNFKOBKONPFNPONPFSFFBPNHKFFSFBKFOBBSBSSHBHPONNHNKFFSFBKFOBBNKFOKNFPNFVNF\n",
      "CPPCPOCPPFOSCPPCPNFKOSSSCPPCPOCPPONPFBKFOSSOSOSSCPPCPOCPPFOSCPPCPFOKNFPNFFBNKFFKOSSOSPOSSPOSSOSSCPPCPOCPPFOSCPPCPNFKOSSSCPPCPOCPPNFKOBKONPFNPONPFSFFBPNHKFFSFBKFOSSOSPOSSPPFOSSOSPPFOSSOSPOSSOSSCPPCPOCP\n",
      "CPPCPOCPPFOSCPPCPNFKOSSSCPPCPOCPPONPFBKFOSSOSOSSCPPCPOCPPFOSCPPCPFOKNFPNFFBNKFFKOSSOSPOSSPOSSOSSCPPCPOCPPFOSCPPCPNFKOSSSCPPCPOCPPNFKOBKONPFNPONPFSFFBPNHKFFSFBKFOSSOSPOSSPPFOSSOSPPFOSSOSPOSSOSSCPPCPOCP\n"
     ]
    }
   ],
   "source": [
    "# part 2\n",
    "\n",
    "template = real_template\n",
    "for _ in range(10):\n",
    "    new_t = ''\n",
    "    for l in range(0,len(template)-1):\n",
    "        to_find = template[l:l+2]\n",
    "        new_t += template[l]\n",
    "        if to_find in D:\n",
    "            new_t += D[to_find]\n",
    "    new_t+=template[-1]\n",
    "    template = new_t\n",
    "    \n",
    "    print(template[:200])\n"
   ]
  },
  {
   "cell_type": "code",
   "execution_count": null,
   "id": "dcaa8257-3790-4737-8c39-95b3218516bc",
   "metadata": {},
   "outputs": [],
   "source": []
  }
 ],
 "metadata": {
  "kernelspec": {
   "display_name": "Python 3 (ipykernel)",
   "language": "python",
   "name": "python3"
  },
  "language_info": {
   "codemirror_mode": {
    "name": "ipython",
    "version": 3
   },
   "file_extension": ".py",
   "mimetype": "text/x-python",
   "name": "python",
   "nbconvert_exporter": "python",
   "pygments_lexer": "ipython3",
   "version": "3.9.9"
  }
 },
 "nbformat": 4,
 "nbformat_minor": 5
}
