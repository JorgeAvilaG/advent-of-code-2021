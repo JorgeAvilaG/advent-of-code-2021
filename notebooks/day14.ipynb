{
 "cells": [
  {
   "cell_type": "code",
   "execution_count": 1,
   "metadata": {},
   "outputs": [
    {
     "name": "stdout",
     "output_type": "stream",
     "text": [
      "CFFPOHBCVVNPHCNBKVNV\n"
     ]
    },
    {
     "data": {
      "text/plain": [
       "dict_keys(['KO', 'CV', 'CF', 'FK', 'BN', 'VN', 'BC', 'OP', 'HS', 'HK', 'CC', 'CK', 'OC', 'SN', 'PK', 'BB', 'PO', 'HF', 'BV', 'HP', 'VF', 'BP', 'CH', 'KN', 'NP', 'FS', 'BH', 'VB', 'OS', 'KK', 'SO', 'NB', 'PS', 'KV', 'CS', 'PN', 'HB', 'NF', 'SC', 'NH', 'HV', 'FN', 'KS', 'BO', 'KP', 'OK', 'OV', 'CN', 'SB', 'VP', 'HC', 'FB', 'VS', 'PH', 'VC', 'KH', 'SH', 'BK', 'SP', 'SF', 'OO', 'VH', 'PP', 'FV', 'KC', 'CO', 'NO', 'FO', 'SK', 'ON', 'VO', 'VV', 'CP', 'FC', 'FP', 'FH', 'KF', 'PB', 'NN', 'SS', 'CB', 'HH', 'FF', 'KB', 'HO', 'BF', 'PV', 'OB', 'OH', 'VK', 'NV', 'SV', 'NC', 'OF', 'NS', 'PF', 'HN', 'BS', 'NK', 'PC'])"
      ]
     },
     "execution_count": 1,
     "metadata": {},
     "output_type": "execute_result"
    }
   ],
   "source": [
    "f = open(\"../data/data_day14.txt\", \"r\")\n",
    "data = [line.strip() for line in list(f)]\n",
    "real_template = data.pop(0)\n",
    "print(real_template)\n",
    "data.pop(0)\n",
    "data = [line.split(' -> ')for line in data]\n",
    "D = {}\n",
    "for line in data:\n",
    "    D[line[0]] = line[1]\n",
    "D.keys()"
   ]
  },
  {
   "cell_type": "code",
   "execution_count": 2,
   "metadata": {},
   "outputs": [],
   "source": [
    "template = real_template\n",
    "for _ in range(10):\n",
    "    new_t = ''\n",
    "    for l in range(0,len(template)-1):\n",
    "        to_find = template[l:l+2]\n",
    "        new_t += template[l]\n",
    "        if to_find in D:\n",
    "            new_t += D[to_find]\n",
    "    new_t+=template[-1]\n",
    "    template = new_t\n"
   ]
  },
  {
   "cell_type": "code",
   "execution_count": 3,
   "metadata": {},
   "outputs": [
    {
     "name": "stdout",
     "output_type": "stream",
     "text": [
      "2947\n"
     ]
    }
   ],
   "source": [
    "high = 0\n",
    "low = 10000000000\n",
    "for l in set(template):\n",
    "    temp = template.count(l)\n",
    "    if temp > high: high = temp\n",
    "    if temp < low: low = temp\n",
    "print(high-low)"
   ]
  },
  {
   "cell_type": "code",
   "execution_count": 76,
   "metadata": {},
   "outputs": [
    {
     "name": "stdout",
     "output_type": "stream",
     "text": [
      " \n",
      "V 4  K 1   \n",
      "CPFSFNPFONHVBHCHVHVKNFPCHPCCNOBNKOVKNHV\n",
      " \n",
      "H 6  S 1   \n",
      "CPPNFFSBFVNFPNFKOKNNHKVPBBHPCCHKVKHKVVKONPFNPOCCHFPOCFCCNOOBBPNHKFOPVVKONNHKV\n",
      " \n",
      "N 11  S 1   \n",
      "CPPCPONPFSFFSHBNFPVKNPFNPONPFBKFOBKONKNNHNKOVCPCBSBBHFPOCFCCHNKOVVKBHNKOVHVVKFOKNFPNFVNFPFOSCFCCHKFN\n",
      " \n",
      "N 23  S 7   \n",
      "CPPCPOCPPFOKNFPNFFSBFSFFSBHVBPNPFNPKVVKONFPNFVNFPFOKNFPNFFBNKFFKOBBNKFOKNHKONKNNHKNHKFOPVHCPPOCCBSSH\n",
      " \n",
      "F 50  S 19   \n",
      "CPPCPOCPPFOSCPPCPNFKOBKONPFNPONPFSFFSHBNFFSBFSFFSHBBHKVPBHPONFPNFVNFPHKOVHVVKFOKNPFNPONPFPVKNPFNPNFK\n",
      " \n",
      "F 98  C 31   \n",
      "CPPCPOCPPFOSCPPCPNFKOSSSCPPCPOCPPONPFBKFOBBNKFOKNFPNFVNFPFOKNFPNFFSBFSFFSBHVBPNPFSFFSHBNFFSBFSFFSBHV\n",
      " \n",
      "F 209  C 49   \n",
      "CPPCPOCPPFOSCPPCPNFKOSSSCPPCPOCPPONPFBKFOSSOSOSSCPPCPOCPPFOSCPPCPFOKNFPNFFBNKFFKOBBSBPNHKFFKOBKONPFN\n",
      " \n",
      "F 428  C 87   \n",
      "CPPCPOCPPFOSCPPCPNFKOSSSCPPCPOCPPONPFBKFOSSOSOSSCPPCPOCPPFOSCPPCPFOKNFPNFFBNKFFKOSSOSPOSSPOSSOSSCPPC\n",
      " \n",
      "F 872  C 159   \n",
      "CPPCPOCPPFOSCPPCPNFKOSSSCPPCPOCPPONPFBKFOSSOSOSSCPPCPOCPPFOSCPPCPFOKNFPNFFBNKFFKOSSOSPOSSPOSSOSSCPPC\n",
      " \n",
      "F 1751  C 297   \n",
      "CPPCPOCPPFOSCPPCPNFKOSSSCPPCPOCPPONPFBKFOSSOSOSSCPPCPOCPPFOSCPPCPFOKNFPNFFBNKFFKOSSOSPOSSPOSSOSSCPPC\n",
      " \n",
      "F 3535  C 588   \n",
      "CPPCPOCPPFOSCPPCPNFKOSSSCPPCPOCPPONPFBKFOSSOSOSSCPPCPOCPPFOSCPPCPFOKNFPNFFBNKFFKOSSOSPOSSPOSSOSSCPPC\n",
      " \n",
      "F 7051  C 1167   \n",
      "CPPCPOCPPFOSCPPCPNFKOSSSCPPCPOCPPONPFBKFOSSOSOSSCPPCPOCPPFOSCPPCPFOKNFPNFFBNKFFKOSSOSPOSSPOSSOSSCPPC\n",
      " \n",
      "F 14204  C 2359   \n",
      "CPPCPOCPPFOSCPPCPNFKOSSSCPPCPOCPPONPFBKFOSSOSOSSCPPCPOCPPFOSCPPCPFOKNFPNFFBNKFFKOSSOSPOSSPOSSOSSCPPC\n",
      " \n",
      "F 28373  V 4748   \n",
      "CPPCPOCPPFOSCPPCPNFKOSSSCPPCPOCPPONPFBKFOSSOSOSSCPPCPOCPPFOSCPPCPFOKNFPNFFBNKFFKOSSOSPOSSPOSSOSSCPPC\n",
      " \n",
      "F 56910  V 9276   \n",
      "CPPCPOCPPFOSCPPCPNFKOSSSCPPCPOCPPONPFBKFOSSOSOSSCPPCPOCPPFOSCPPCPFOKNFPNFFBNKFFKOSSOSPOSSPOSSOSSCPPC\n",
      " \n",
      "F 113816  V 18359   \n",
      "CPPCPOCPPFOSCPPCPNFKOSSSCPPCPOCPPONPFBKFOSSOSOSSCPPCPOCPPFOSCPPCPFOKNFPNFFBNKFFKOSSOSPOSSPOSSOSSCPPC\n",
      " \n",
      "F 227956  V 36230   \n",
      "CPPCPOCPPFOSCPPCPNFKOSSSCPPCPOCPPONPFBKFOSSOSOSSCPPCPOCPPFOSCPPCPFOKNFPNFFBNKFFKOSSOSPOSSPOSSOSSCPPC\n",
      " \n",
      "F 455687  V 72086   \n",
      "CPPCPOCPPFOSCPPCPNFKOSSSCPPCPOCPPONPFBKFOSSOSOSSCPPCPOCPPFOSCPPCPFOKNFPNFFBNKFFKOSSOSPOSSPOSSOSSCPPC\n",
      " \n",
      "F 912460  V 143164   \n",
      "CPPCPOCPPFOSCPPCPNFKOSSSCPPCPOCPPONPFBKFOSSOSOSSCPPCPOCPPFOSCPPCPFOKNFPNFFBNKFFKOSSOSPOSSPOSSOSSCPPC\n"
     ]
    }
   ],
   "source": [
    "# part 2\n",
    "\n",
    "template = real_template\n",
    "for _ in range(19):\n",
    "    new_t = ''\n",
    "    prueba = ''\n",
    "    for l in range(0,len(template)-1):\n",
    "        to_find = template[l:l+2]\n",
    "        new_t += template[l]\n",
    "        if to_find in D:\n",
    "            new_t += D[to_find]\n",
    "        \n",
    "            prueba+=D[to_find]\n",
    "            \n",
    "    new_t+=template[-1]\n",
    "    \n",
    "    counter = 0\n",
    "    for i in range(len(template)):\n",
    "        if template[i] == new_t[i]:\n",
    "            counter += 1\n",
    "    \n",
    "    high = 0\n",
    "    a_h = ''\n",
    "    low = 10000000000\n",
    "    a_l = ''\n",
    "    for l in set(template):\n",
    "        temp = template.count(l)\n",
    "        if temp > high: \n",
    "            high = temp\n",
    "            a_h = l\n",
    "        if temp < low:\n",
    "            low = temp\n",
    "            a_l = l\n",
    "        #print(l,temp,' ',end='')\n",
    "    print(' ')\n",
    "    print(a_h,template.count(a_h),' ',end='')\n",
    "    print(a_l,template.count(a_l),' ',end='')\n",
    "    print(' ')\n",
    "    #print(counter, len(new_t), new_t.count('P'))\n",
    "    \n",
    "    \n",
    "    template = new_t\n",
    "    #print('prueba ',prueba[0:150])\n",
    "    print(template[:100])\n",
    "    "
   ]
  },
  {
   "cell_type": "code",
   "execution_count": 39,
   "metadata": {},
   "outputs": [
    {
     "name": "stdout",
     "output_type": "stream",
     "text": [
      "0 200 CPPCPOCPPFOSCPPCPNFKOSSSCPPCPOCPPONPFBKFOSSOSOSSCPPCPOCPPFOSCPPCPFOKNFPNFFBNKFFKOSSOSPOSSPOSSOSSCPPCPOCPPFOSCPPCPNFKOSSSCPPCPOCPPNFKOBKONPFNPONPFSFFBPNHKFFSFBKFOSSOSPOSSPPFOSSOSPPFOSSOSPOSSOSSCPPCPOCP\n",
      "768 200 CPPCPOCPPFOSCPPCPNFKOSSSCPPCPOCPPONPFBKFOSSOSOSSCPPCPOCPPFOSCPPCPFOKNFPNFFBNKFFKOSSOSPOSSPOSSOSSCPPCPOCPPFOSCPPCPNFKOSSSCPPCPOCPPNFKOBKONPFNPONPFSFFBPNHKFFSFBKFOSSOSPOSSPPFOSSOSPPFOSSOSPOSSOSSCPPCPOCP\n",
      "11520 200 CPPCPOCPPFOSCPPCPNFKOSSSCPPCPOCPPONPFBKFOSSOSOSSCPPCPOCPPFOSCPPCPFOKNFPNFFBNKFFKOSSOSPOSSPOSSOSSCPPCPOCPPFOSCPPCPNFKOSSSCPPCPOCPPNFKOBKONPFNPONPFSFFBPNHKFFSFBKFOSSOSPOSSPPFOSSOSPPFOSSOSPOSSOSSCPPCPOCP\n",
      "26624 200 CPPCPOCPPFOSCPPCPNFKOSSSCPPCPOCPPONPFBKFOSSOSOSSCPPCPOCPPFOSCPPCPFOKNFPNFFBNKFFKOSSOSPOSSPOSSOSSCPPCPOCPPFOSCPPCPNFKOSSSCPPCPOCPPNFKOBKONPFNPONPFSFFBPNHKFFSFBKFOSSOSPOSSPPFOSSOSPPFOSSOSPOSSOSSCPPCPOCP\n"
     ]
    }
   ],
   "source": [
    "n = 200\n",
    "a = template[:n]\n",
    "for x in range(len(template)):\n",
    "    if template[x:x+n] == a:\n",
    "        print(x,len(template[x:x+n]),template[x:x+n])"
   ]
  },
  {
   "cell_type": "markdown",
   "metadata": {},
   "source": [
    "# "
   ]
  },
  {
   "cell_type": "code",
   "execution_count": 27,
   "metadata": {},
   "outputs": [
    {
     "data": {
      "text/plain": [
       "19457"
      ]
     },
     "execution_count": 27,
     "metadata": {},
     "output_type": "execute_result"
    }
   ],
   "source": [
    "len(template)"
   ]
  },
  {
   "cell_type": "code",
   "execution_count": 40,
   "metadata": {},
   "outputs": [
    {
     "name": "stdout",
     "output_type": "stream",
     "text": [
      "CPPCPOCPPFOSCPPCPNFKOSSSCPPCPOCPPONPFBKFOSSOSOSSCPPCPOCPPFOSCPPCPFOKNFPNFFBNKFFKOSSOSPOSSPOSSOSSCPPCPOCPPFOSCPPCPNFKOSSSCPPCPOCPPNFKOBKONPFNPONPFSFFBPNHKFFSFBKFOSSOSPOSSPPFOSSOSPPFOSSOSPOSSOSSCPPCPOCPPFOSCPPCPNFKOSSSCPPCPOCPPONPFBKF\n"
     ]
    }
   ],
   "source": [
    "print(template[768:1000])"
   ]
  },
  {
   "cell_type": "code",
   "execution_count": 30,
   "metadata": {},
   "outputs": [
    {
     "name": "stdout",
     "output_type": "stream",
     "text": [
      "CPPCPOCPPFOSCPPCPNFKOSSSCPPCPOCPPONPFBKFOSSOSOSSCPPCPOCPPFOSCPPCPONPFBKFOBBNKFOKNFPNFVNFPFOKNFPNFFSBFSFFBHPONNHNKFFSFFSBFFBNKFFKOSSOSPOSSPPFOSSOSPPCPNFKOSSOSPOSSPPCPNFKOSSOSPOSSPPFOSSOSPOSSOSS\n"
     ]
    }
   ],
   "source": [
    "print(template[192:192*2])"
   ]
  },
  {
   "cell_type": "code",
   "execution_count": null,
   "metadata": {},
   "outputs": [],
   "source": []
  }
 ],
 "metadata": {
  "kernelspec": {
   "display_name": "Python 3",
   "language": "python",
   "name": "python3"
  },
  "language_info": {
   "codemirror_mode": {
    "name": "ipython",
    "version": 3
   },
   "file_extension": ".py",
   "mimetype": "text/x-python",
   "name": "python",
   "nbconvert_exporter": "python",
   "pygments_lexer": "ipython3",
   "version": "3.7.9"
  }
 },
 "nbformat": 4,
 "nbformat_minor": 5
}
