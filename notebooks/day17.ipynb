{
 "cells": [
  {
   "cell_type": "code",
   "execution_count": 1,
   "id": "a10bf7ca-adb1-438e-9a22-7819e71946c6",
   "metadata": {},
   "outputs": [
    {
     "name": "stdout",
     "output_type": "stream",
     "text": [
      "['target', 'area:', 'x=117..164,', 'y=-140..-89']\n",
      "[117, 164] [-140, -89]\n"
     ]
    }
   ],
   "source": [
    "f = open(\"../data/data_day17.txt\", \"r\")\n",
    "data = list(f)[0].split()\n",
    "print(data)\n",
    "rangeX = [117,164]\n",
    "rangeY = [-140,-89]\n",
    "print(rangeX, rangeY)"
   ]
  },
  {
   "cell_type": "code",
   "execution_count": 2,
   "id": "9632b3bd-b708-44a9-ae8f-3b4a7ab3e6bf",
   "metadata": {},
   "outputs": [
    {
     "name": "stdout",
     "output_type": "stream",
     "text": [
      "119 -91 velocity 1 -14 (15, 0) 0\n",
      "120 -105 velocity 0 -15 (15, 0) 0\n",
      "120 -120 velocity 0 -16 (15, 0) 0\n",
      "120 -136 velocity 0 -17 (15, 0) 0\n",
      "133 -91 velocity 2 -14 (16, 0) 0\n",
      "135 -105 velocity 1 -15 (16, 0) 0\n",
      "136 -120 velocity 0 -16 (16, 0) 0\n",
      "136 -136 velocity 0 -17 (16, 0) 0\n",
      "147 -91 velocity 3 -14 (17, 0) 0\n",
      "150 -105 velocity 2 -15 (17, 0) 0\n",
      "152 -120 velocity 1 -16 (17, 0) 0\n",
      "153 -136 velocity 0 -17 (17, 0) 0\n",
      "161 -91 velocity 4 -14 (18, 0) 0\n",
      "120 -90 velocity 0 -14 (15, 1) 1\n",
      "120 -104 velocity 0 -15 (15, 1) 1\n",
      "120 -119 velocity 0 -16 (15, 1) 1\n",
      "120 -135 velocity 0 -17 (15, 1) 1\n",
      "135 -90 velocity 1 -14 (16, 1) 1\n",
      "136 -104 velocity 0 -15 (16, 1) 1\n",
      "136 -119 velocity 0 -16 (16, 1) 1\n",
      "136 -135 velocity 0 -17 (16, 1) 1\n",
      "150 -90 velocity 2 -14 (17, 1) 1\n",
      "152 -104 velocity 1 -15 (17, 1) 1\n",
      "153 -119 velocity 0 -16 (17, 1) 1\n",
      "153 -135 velocity 0 -17 (17, 1) 1\n",
      "120 -102 velocity 0 -15 (15, 2) 3\n",
      "120 -117 velocity 0 -16 (15, 2) 3\n",
      "120 -133 velocity 0 -17 (15, 2) 3\n",
      "136 -102 velocity 0 -15 (16, 2) 3\n",
      "136 -117 velocity 0 -16 (16, 2) 3\n",
      "136 -133 velocity 0 -17 (16, 2) 3\n",
      "153 -102 velocity 0 -15 (17, 2) 3\n",
      "153 -117 velocity 0 -16 (17, 2) 3\n",
      "153 -133 velocity 0 -17 (17, 2) 3\n",
      "120 -99 velocity 0 -15 (15, 3) 6\n",
      "120 -114 velocity 0 -16 (15, 3) 6\n",
      "120 -130 velocity 0 -17 (15, 3) 6\n",
      "136 -99 velocity 0 -15 (16, 3) 6\n",
      "136 -114 velocity 0 -16 (16, 3) 6\n",
      "136 -130 velocity 0 -17 (16, 3) 6\n",
      "153 -99 velocity 0 -15 (17, 3) 6\n",
      "153 -114 velocity 0 -16 (17, 3) 6\n",
      "153 -130 velocity 0 -17 (17, 3) 6\n",
      "120 -95 velocity 0 -15 (15, 4) 10\n",
      "120 -110 velocity 0 -16 (15, 4) 10\n",
      "120 -126 velocity 0 -17 (15, 4) 10\n",
      "136 -95 velocity 0 -15 (16, 4) 10\n",
      "136 -110 velocity 0 -16 (16, 4) 10\n",
      "136 -126 velocity 0 -17 (16, 4) 10\n",
      "153 -95 velocity 0 -15 (17, 4) 10\n",
      "153 -110 velocity 0 -16 (17, 4) 10\n",
      "153 -126 velocity 0 -17 (17, 4) 10\n"
     ]
    }
   ],
   "source": [
    "def new_pos(pos,vel):\n",
    "    new_p = (pos[0]+vel[0],pos[1]+vel[1])\n",
    "    new_v = [0,0]\n",
    "    if vel[0] > 0:\n",
    "        new_v[0] = vel[0]-1\n",
    "    if vel[0] < 0:\n",
    "        new_v[0] = vel[0]+1\n",
    "    new_v[1] =vel[1]-1\n",
    "    return new_p, new_v\n",
    "\n",
    "\n",
    "\n",
    "\n",
    "\n",
    "for vx in range(100):\n",
    "    for vy in range(100):\n",
    "        x,y = 0,0\n",
    "        initials = (vx,vy)\n",
    "        max_y = 0\n",
    "        while y >= rangeY[0]:\n",
    "            if y > max_y: max_y = y\n",
    "            if x >= rangeX[0] and x <= rangeX[1] and y >= rangeY[0] and y <= rangeY[1]:\n",
    "                print(x,y,'velocity',vx,vy, initials, max_y)\n",
    "            (x,y),(vx,vy) = new_pos((x,y),(vx,vy))\n",
    "        #print(x,y,'velocity',vx,vy)"
   ]
  },
  {
   "cell_type": "code",
   "execution_count": null,
   "id": "6be1d35e-4ee2-490a-95e3-0c7829e1c317",
   "metadata": {},
   "outputs": [],
   "source": []
  }
 ],
 "metadata": {
  "kernelspec": {
   "display_name": "Python 3 (ipykernel)",
   "language": "python",
   "name": "python3"
  },
  "language_info": {
   "codemirror_mode": {
    "name": "ipython",
    "version": 3
   },
   "file_extension": ".py",
   "mimetype": "text/x-python",
   "name": "python",
   "nbconvert_exporter": "python",
   "pygments_lexer": "ipython3",
   "version": "3.9.9"
  }
 },
 "nbformat": 4,
 "nbformat_minor": 5
}
