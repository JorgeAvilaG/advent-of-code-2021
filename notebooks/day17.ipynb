{
 "cells": [
  {
   "cell_type": "code",
   "execution_count": 24,
   "id": "a10bf7ca-adb1-438e-9a22-7819e71946c6",
   "metadata": {},
   "outputs": [
    {
     "name": "stdout",
     "output_type": "stream",
     "text": [
      "['target', 'area:', 'x=117..164,', 'y=-140..-89']\n",
      "[20, 30] [-10, -5]\n"
     ]
    }
   ],
   "source": [
    "f = open(\"../data/data_day17.txt\", \"r\")\n",
    "data = list(f)[0].split()\n",
    "print(data)\n",
    "rangeX = [117,164]\n",
    "rangeY = [-140,-89]\n",
    "rangeX = [20,30]\n",
    "rangeY = [-10,-5]\n",
    "print(rangeX, rangeY)"
   ]
  },
  {
   "cell_type": "code",
   "execution_count": 25,
   "id": "13361bf7-4fac-4ee9-9891-70b38942597d",
   "metadata": {},
   "outputs": [],
   "source": [
    "def new_pos(pos,vel):\n",
    "    new_p = (pos[0]+vel[0],pos[1]+vel[1])\n",
    "    new_v = [0,0]\n",
    "    if vel[0] > 0:\n",
    "        new_v[0] = vel[0]-1\n",
    "    if vel[0] < 0:\n",
    "        new_v[0] = vel[0]+1\n",
    "    new_v[1] =vel[1]-1\n",
    "    return new_p, new_v"
   ]
  },
  {
   "cell_type": "code",
   "execution_count": 26,
   "id": "780686e9-4876-42b6-b631-f33d3fe0b417",
   "metadata": {},
   "outputs": [
    {
     "name": "stdout",
     "output_type": "stream",
     "text": [
      "0 0\n",
      "1 1\n",
      "2 3\n",
      "3 6\n",
      "4 10\n",
      "5 15\n",
      "6 21\n",
      "7 28\n",
      "8 36\n",
      "9 45\n",
      "10 55\n",
      "11 66\n",
      "12 78\n",
      "13 91\n",
      "14 105\n",
      "15 120\n",
      "16 136\n",
      "17 153\n",
      "18 171\n",
      "19 190\n"
     ]
    }
   ],
   "source": [
    "#136 too low\n",
    "for i in range(20):\n",
    "    print(i,i*(i+1)//2)"
   ]
  },
  {
   "cell_type": "code",
   "execution_count": 39,
   "id": "9632b3bd-b708-44a9-ae8f-3b4a7ab3e6bf",
   "metadata": {},
   "outputs": [
    {
     "name": "stdout",
     "output_type": "stream",
     "text": [
      "20 -10 velocity 1 -5 6 0 0\n",
      "22 -6 velocity 3 -4 7 0 0\n",
      "25 -10 velocity 2 -5 7 0 0\n",
      "26 -6 velocity 4 -4 8 0 0\n",
      "30 -10 velocity 3 -5 8 0 0\n",
      "30 -6 velocity 5 -4 9 0 0\n",
      "20 -5 velocity 1 -4 6 1 1\n",
      "21 -9 velocity 0 -5 6 1 1\n",
      "25 -5 velocity 2 -4 7 1 1\n",
      "27 -9 velocity 1 -5 7 1 1\n",
      "30 -5 velocity 3 -4 8 1 1\n",
      "21 -7 velocity 0 -5 6 2 3\n",
      "28 -7 velocity 0 -5 7 2 3\n",
      "21 -9 velocity 0 -6 6 3 6\n",
      "28 -9 velocity 0 -6 7 3 6\n",
      "21 -5 velocity 0 -6 6 4 10\n",
      "28 -5 velocity 0 -6 7 4 10\n",
      "21 -6 velocity 0 -7 6 5 15\n",
      "28 -6 velocity 0 -7 7 5 15\n",
      "21 -7 velocity 0 -8 6 6 21\n",
      "28 -7 velocity 0 -8 7 6 21\n",
      "21 -8 velocity 0 -9 6 7 28\n",
      "28 -8 velocity 0 -9 7 7 28\n",
      "21 -9 velocity 0 -10 6 8 36\n",
      "28 -9 velocity 0 -10 7 8 36\n",
      "36\n"
     ]
    }
   ],
   "source": [
    "max_y = 0\n",
    "for vx in range(100):\n",
    "    for vy in range(100):\n",
    "        x,y = 0,0\n",
    "        initials = vy\n",
    "        initialsx =vx\n",
    "        while y >= rangeY[0]:\n",
    "            if x >= rangeX[0] and x <= rangeX[1] and y >= rangeY[0] and y <= rangeY[1]:\n",
    "                if (initials*(initials+1))//2 > max_y: max_y = (initials*(initials+1))//2\n",
    "                print(x,y,'velocity',vx,vy, initialsx,initials, initials*(initials+1)//2)\n",
    "            (x,y),(vx,vy) = new_pos((x,y),(vx,vy))\n",
    "print(max_y)"
   ]
  },
  {
   "cell_type": "code",
   "execution_count": 40,
   "id": "6be1d35e-4ee2-490a-95e3-0c7829e1c317",
   "metadata": {},
   "outputs": [
    {
     "name": "stdout",
     "output_type": "stream",
     "text": [
      "21 -10 velocity 0 -11\n"
     ]
    }
   ],
   "source": [
    "x,y = 0,0\n",
    "vx,vy = 6,9\n",
    "for _ in range(25):\n",
    "    if x >= rangeX[0] and x <= rangeX[1] and y >= rangeY[0] and y <= rangeY[1]:\n",
    "        print(x,y,'velocity',vx,vy, )\n",
    "    (x,y),(vx,vy) = new_pos((x,y),(vx,vy))"
   ]
  },
  {
   "cell_type": "code",
   "execution_count": null,
   "id": "421b6efb-cc18-448e-b47a-f38f8cbe306f",
   "metadata": {},
   "outputs": [],
   "source": []
  }
 ],
 "metadata": {
  "kernelspec": {
   "display_name": "Python 3 (ipykernel)",
   "language": "python",
   "name": "python3"
  },
  "language_info": {
   "codemirror_mode": {
    "name": "ipython",
    "version": 3
   },
   "file_extension": ".py",
   "mimetype": "text/x-python",
   "name": "python",
   "nbconvert_exporter": "python",
   "pygments_lexer": "ipython3",
   "version": "3.9.9"
  }
 },
 "nbformat": 4,
 "nbformat_minor": 5
}
