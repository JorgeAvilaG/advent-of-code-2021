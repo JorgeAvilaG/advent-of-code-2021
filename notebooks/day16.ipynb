{
 "cells": [
  {
   "cell_type": "code",
   "execution_count": 12,
   "id": "f4da256a-3b80-43a2-9078-efc5eb4def04",
   "metadata": {},
   "outputs": [
    {
     "data": {
      "text/plain": [
       "'0000000001'"
      ]
     },
     "execution_count": 12,
     "metadata": {},
     "output_type": "execute_result"
    }
   ],
   "source": [
    "f = open(\"../data/data_day16.txt\", \"r\")\n",
    "data = list(f)\n",
    "data = list(data[0])\n",
    "D = {\n",
    "    '0' : '0000',\n",
    "    '1' : '0001',\n",
    "    '2' : '0010',\n",
    "    '3' : '0011',\n",
    "    '4' : '0100',\n",
    "    '5' : '0101',\n",
    "    '6' : '0110',\n",
    "    '7' : '0111',\n",
    "    '8' : '1000',\n",
    "    '9' : '1001',\n",
    "    'A' : '1010',\n",
    "    'B' : '1011',\n",
    "    'C' : '1100',\n",
    "    'D' : '1101',\n",
    "    'E' : '1110',\n",
    "    'F' : '1111',\n",
    "}\n",
    "packet = ''\n",
    "for d in data:\n",
    "    packet += D[d]\n",
    "packet[0:10]"
   ]
  },
  {
   "cell_type": "code",
   "execution_count": 13,
   "id": "52221046-6b08-446d-9f35-ce95bee3418c",
   "metadata": {},
   "outputs": [
    {
     "data": {
      "text/plain": [
       "['0', '0', '5', '5', '3', '2', '4', '4', '7', '8']"
      ]
     },
     "execution_count": 13,
     "metadata": {},
     "output_type": "execute_result"
    }
   ],
   "source": [
    "\n",
    "def read_packet(packet):\n",
    "    p_ver = packet[0:3]\n",
    "    ID = packet[3:6]\n",
    "    if ID == '100':\n",
    "        # read packet\n",
    "        pass\n",
    "    else:\n",
    "        length_ID = packet[6]\n",
    "        \n",
    "        \n",
    "        \n",
    "        "
   ]
  },
  {
   "cell_type": "code",
   "execution_count": null,
   "id": "6417eca9-1f12-4b0a-97b3-921149b86fc0",
   "metadata": {},
   "outputs": [],
   "source": []
  }
 ],
 "metadata": {
  "kernelspec": {
   "display_name": "Python 3 (ipykernel)",
   "language": "python",
   "name": "python3"
  },
  "language_info": {
   "codemirror_mode": {
    "name": "ipython",
    "version": 3
   },
   "file_extension": ".py",
   "mimetype": "text/x-python",
   "name": "python",
   "nbconvert_exporter": "python",
   "pygments_lexer": "ipython3",
   "version": "3.9.9"
  }
 },
 "nbformat": 4,
 "nbformat_minor": 5
}
