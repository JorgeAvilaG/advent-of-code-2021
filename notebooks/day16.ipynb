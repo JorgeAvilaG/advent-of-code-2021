{
 "cells": [
  {
   "cell_type": "code",
   "execution_count": 2,
   "metadata": {},
   "outputs": [
    {
     "data": {
      "text/plain": [
       "'00000000010101010011001001000100011110000011011001'"
      ]
     },
     "execution_count": 2,
     "metadata": {},
     "output_type": "execute_result"
    }
   ],
   "source": [
    "f = open(\"../data/data_day16.txt\", \"r\")\n",
    "data = list(f)\n",
    "data = list(data[0])\n",
    "D = {\n",
    "    '0' : '0000',\n",
    "    '1' : '0001',\n",
    "    '2' : '0010',\n",
    "    '3' : '0011',\n",
    "    '4' : '0100',\n",
    "    '5' : '0101',\n",
    "    '6' : '0110',\n",
    "    '7' : '0111',\n",
    "    '8' : '1000',\n",
    "    '9' : '1001',\n",
    "    'A' : '1010',\n",
    "    'B' : '1011',\n",
    "    'C' : '1100',\n",
    "    'D' : '1101',\n",
    "    'E' : '1110',\n",
    "    'F' : '1111',\n",
    "}\n",
    "packet = ''\n",
    "for d in data:\n",
    "    packet += D[d]\n",
    "packet[0:50]"
   ]
  },
  {
   "cell_type": "code",
   "execution_count": 3,
   "metadata": {},
   "outputs": [
    {
     "data": {
      "text/plain": [
       "(981, 5474, 0)"
      ]
     },
     "execution_count": 3,
     "metadata": {},
     "output_type": "execute_result"
    }
   ],
   "source": [
    "# part 1\n",
    "def read_packet(p_0):\n",
    "    p_ver = int(packet[p_0:p_0+3],2)\n",
    "    #print('version',p_ver)\n",
    "    ID = packet[p_0+3:p_0+6]\n",
    "    #print(ID)\n",
    "    if ID == '100':\n",
    "        temp = p_0+6\n",
    "        number = ''\n",
    "        reading = True\n",
    "        while reading:\n",
    "            pack = packet[temp:temp+5]\n",
    "           # print(pack)\n",
    "            if pack[0] == '0':\n",
    "                reading = False\n",
    "            number+= pack[1:]\n",
    "            temp += 5\n",
    "        \n",
    "        return p_ver, temp-p_0, int(number,2) #temp-p_0 size of packet\n",
    "    \n",
    "    else:\n",
    "        \n",
    "        length_ID = packet[p_0+6]\n",
    "     #   print('length_ID',length_ID)\n",
    "        if length_ID == '1':\n",
    "            n_packets = int(packet[p_0+7:p_0+7+11],2)\n",
    "      #      print('n_packets', n_packets)\n",
    "            new_p = p_0+7+11\n",
    "            while n_packets:\n",
    "                n_packets -= 1\n",
    "                sub_p_ver, b, c = read_packet(new_p)\n",
    "                p_ver += sub_p_ver\n",
    "                new_p += b\n",
    "            return p_ver, new_p-p_0, 0\n",
    "            \n",
    "        else:\n",
    "            total_bits = int(packet[p_0+7:p_0+7+15],2)\n",
    "       #     print('total_bits', total_bits)\n",
    "            last_b = p_0+7+15 + total_bits\n",
    "            new_p = p_0+7+15\n",
    "            while new_p < last_b:\n",
    "                sub_p_ver, b, c = read_packet(new_p)\n",
    "                p_ver += sub_p_ver\n",
    "                new_p += b\n",
    "\n",
    "            return p_ver, last_b-p_0, 0\n",
    "        \n",
    "        \n",
    "        \n",
    "read_packet(0)"
   ]
  },
  {
   "cell_type": "code",
   "execution_count": 4,
   "metadata": {},
   "outputs": [],
   "source": [
    "# part 2\n",
    "\n",
    "def packets_op(packets,n):\n",
    "    print(packets)\n",
    "    if n == 0:\n",
    "        sol = 0\n",
    "        for p in packets:\n",
    "            sol+= p\n",
    "            \n",
    "        return sol\n",
    "    elif n == 1:\n",
    "        sol = 1\n",
    "        for p in packets:\n",
    "            sol *= p\n",
    "        return sol\n",
    "    elif n == 2:\n",
    "        sol = 10**999999999\n",
    "        for p in packets:\n",
    "            if p < sol: sol = p\n",
    "        return sol\n",
    "    elif n == 3:\n",
    "        sol = 0\n",
    "        for p in packets:\n",
    "            if p > sol: sol = p\n",
    "        return sol\n",
    "    elif n == 4:\n",
    "        return packets\n",
    "        \n",
    "    elif n == 5:\n",
    "        if packets[0] > packets[1]:\n",
    "            return 1\n",
    "        else:\n",
    "            return 0\n",
    "    elif n == 6:\n",
    "        if packets[0] < packets[1]:\n",
    "            return 1\n",
    "        else:\n",
    "            return 0\n",
    "    elif n == 7:\n",
    "        if packets[0] == packets[1]:\n",
    "            return 1\n",
    "        else:\n",
    "            return 0\n",
    "\n",
    "\n",
    "def read_packet(p_0):\n",
    "    p_ver = int(packet[p_0:p_0+3],2)\n",
    "    #print('version',p_ver)\n",
    "    ID = int(packet[p_0+3:p_0+6],2)\n",
    "    #print(ID)\n",
    "    if ID == 4:\n",
    "        temp = p_0+6\n",
    "        number = ''\n",
    "        reading = True\n",
    "        while reading:\n",
    "            pack = packet[temp:temp+5]\n",
    "           # print(pack)\n",
    "            if pack[0] == '0':\n",
    "                reading = False\n",
    "            number+= pack[1:]\n",
    "            temp += 5\n",
    "        sol = int(number,2)\n",
    "        new_p = temp\n",
    "        #return p_ver, temp-p_0, int(number,2) #temp-p_0 size of packet\n",
    "    \n",
    "    else:\n",
    "        \n",
    "        length_ID = packet[p_0+6]\n",
    "     #   print('length_ID',length_ID)\n",
    "        if length_ID == '1':\n",
    "            n_packets = int(packet[p_0+7:p_0+7+11],2)\n",
    "      #      print('n_packets', n_packets)\n",
    "            new_p = p_0+7+11\n",
    "            packets = []\n",
    "            while n_packets:\n",
    "                n_packets -= 1\n",
    "                b, c = read_packet(new_p)\n",
    "                \n",
    "                new_p += b\n",
    "                packets.append(c)\n",
    "                \n",
    "            #return p_ver, new_p-p_0, 0\n",
    "            \n",
    "        else:\n",
    "            total_bits = int(packet[p_0+7:p_0+7+15],2)\n",
    "       #     print('total_bits', total_bits)\n",
    "            last_b = p_0+7+15 + total_bits\n",
    "            new_p = p_0+7+15\n",
    "            packets = []\n",
    "            while new_p < last_b:\n",
    "                b, c = read_packet(new_p)\n",
    "                \n",
    "                new_p += b\n",
    "                packets.append(c)\n",
    "        \n",
    "        sol = packets\n",
    "        #print(len(packets),ID)\n",
    "        \n",
    "        \n",
    "    print(ID, sol)\n",
    "    sol = packets_op(sol,ID)\n",
    "    return new_p-p_0, sol\n",
    "        \n"
   ]
  },
  {
   "cell_type": "code",
   "execution_count": null,
   "metadata": {},
   "outputs": [],
   "source": [
    "print('que pasha')\n",
    "read_packet(0)"
   ]
  },
  {
   "cell_type": "code",
   "execution_count": 19,
   "metadata": {},
   "outputs": [
    {
     "name": "stdout",
     "output_type": "stream",
     "text": [
      "386\n"
     ]
    }
   ],
   "source": [
    "a = '101000000'\n",
    "b = '001000010'\n",
    "\n",
    "print(int(str(a),2)+int(str(b),2) )\n"
   ]
  },
  {
   "cell_type": "code",
   "execution_count": 22,
   "metadata": {},
   "outputs": [
    {
     "data": {
      "text/plain": [
       "320"
      ]
     },
     "execution_count": 22,
     "metadata": {},
     "output_type": "execute_result"
    }
   ],
   "source": [
    "int(str(a),2)"
   ]
  },
  {
   "cell_type": "code",
   "execution_count": 23,
   "metadata": {},
   "outputs": [
    {
     "data": {
      "text/plain": [
       "66"
      ]
     },
     "execution_count": 23,
     "metadata": {},
     "output_type": "execute_result"
    }
   ],
   "source": [
    "int(str(b),2)"
   ]
  },
  {
   "cell_type": "code",
   "execution_count": 21,
   "metadata": {},
   "outputs": [
    {
     "data": {
      "text/plain": [
       "322"
      ]
     },
     "execution_count": 21,
     "metadata": {},
     "output_type": "execute_result"
    }
   ],
   "source": [
    "int(str('101000010'),2)"
   ]
  },
  {
   "cell_type": "code",
   "execution_count": 24,
   "metadata": {},
   "outputs": [
    {
     "ename": "ValueError",
     "evalue": "invalid literal for int() with base 2: '386'",
     "output_type": "error",
     "traceback": [
      "\u001b[1;31m---------------------------------------------------------------------------\u001b[0m",
      "\u001b[1;31mValueError\u001b[0m                                Traceback (most recent call last)",
      "\u001b[1;32m<ipython-input-24-1f46d2c0f070>\u001b[0m in \u001b[0;36m<module>\u001b[1;34m\u001b[0m\n\u001b[1;32m----> 1\u001b[1;33m \u001b[0mint\u001b[0m\u001b[1;33m(\u001b[0m\u001b[0mstr\u001b[0m\u001b[1;33m(\u001b[0m\u001b[1;34m'386'\u001b[0m\u001b[1;33m)\u001b[0m\u001b[1;33m,\u001b[0m\u001b[1;36m2\u001b[0m\u001b[1;33m)\u001b[0m\u001b[1;33m\u001b[0m\u001b[1;33m\u001b[0m\u001b[0m\n\u001b[0m",
      "\u001b[1;31mValueError\u001b[0m: invalid literal for int() with base 2: '386'"
     ]
    }
   ],
   "source": [
    "110000010"
   ]
  },
  {
   "cell_type": "code",
   "execution_count": null,
   "metadata": {},
   "outputs": [],
   "source": []
  }
 ],
 "metadata": {
  "kernelspec": {
   "display_name": "Python 3",
   "language": "python",
   "name": "python3"
  },
  "language_info": {
   "codemirror_mode": {
    "name": "ipython",
    "version": 3
   },
   "file_extension": ".py",
   "mimetype": "text/x-python",
   "name": "python",
   "nbconvert_exporter": "python",
   "pygments_lexer": "ipython3",
   "version": "3.7.9"
  }
 },
 "nbformat": 4,
 "nbformat_minor": 5
}
